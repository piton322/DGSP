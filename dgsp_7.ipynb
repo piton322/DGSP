{
  "nbformat": 4,
  "nbformat_minor": 0,
  "metadata": {
    "colab": {
      "name": "dgsp_7.ipynb",
      "provenance": [],
      "collapsed_sections": []
    },
    "kernelspec": {
      "name": "python3",
      "display_name": "Python 3"
    },
    "language_info": {
      "name": "python"
    }
  },
  "cells": [
    {
      "cell_type": "markdown",
      "metadata": {
        "id": "cggXt3e9wa0b"
      },
      "source": [
        "Задача 5.3. В условиях задачи 4.2 построить фильтр Калмана и сравнить его результаты с результатами аппроксимации оптимальной оценки фильтрации."
      ]
    },
    {
      "cell_type": "markdown",
      "metadata": {
        "id": "L7frQHBvwfLK"
      },
      "source": [
        "Условие задачи 4.2: Для линейной гауссовской системы наблюдения (скалярное состояние, скаляр-ное наблюдение)\n",
        "\n",
        "𝑋𝑡= 𝑎𝑡𝑋𝑡−1+с𝑡+ 𝑏𝑡𝑉𝑡,𝑡 ∈ ℕ, 𝑋0 ~ 𝒩(𝑚0,𝐷0), 𝑌𝑡= 𝐴𝑡𝑋𝑡+С𝑡+ 𝐵𝑡𝑊𝑡,\n",
        "\n",
        "численно реализовать алгоритм оптимальной фильтрации (4.13) - (4.18). Использовать се-точный метод. Положение и масштаб сетки выбирать и контролировать с помощью метода моментов. На отрезке времени [0,100] на общем рисунке построить графики точного состо-яния 𝑋𝑡, наблюдения 𝑌𝑡 и оптимальной оценки 𝑋̂𝑡 для набора параметров (𝑎𝑡,𝑏𝑡,𝑐𝑡,𝐴𝑡,𝐵𝑡,𝐶𝑡)=(1,0.5,0,1,1,0). На отрезке времени [0,100] на общем рисунке по-строить графики точного состояния 𝑋𝑡, наблюдения 𝑌𝑡 и оптимальной оценки 𝑋̂𝑡 для набора параметров (𝑎𝑡,𝑏𝑡,𝑐𝑡,𝐴𝑡,𝐵𝑡,𝐶𝑡)=(−0.5,0.5,1,1,1,0)."
      ]
    },
    {
      "cell_type": "markdown",
      "metadata": {
        "id": "bwwSiUttxL8l"
      },
      "source": [
        "Теорема 5.4. (Фильтр Калмана). Оптимальная оценка 𝑋̂𝑡 состояния системы (5.1) и ковари-ационная матрица ее ошибки 𝑘𝑡=𝑐𝑜𝑣(𝑋̂𝑡− 𝑋𝑡,𝑋̂𝑡− 𝑋𝑡) вычисляются с помощью следу-ющего двухшагового рекуррентного алгоритма:\n",
        "\n",
        "1. Шаг прогноза:\n",
        "\n",
        "𝑋̃𝑡= 𝐸[𝑋𝑡 |𝒴𝑡−1]= 𝑎𝑡𝑋̂𝑡−1+ 𝑐𝑡, (5.9) 𝑘̃𝑡= 𝑐𝑜𝑣(𝑋̃𝑡− 𝑋𝑡,𝑋̃𝑡− 𝑋𝑡)=𝑎𝑡𝑘𝑡−1𝑎𝑡𝑇+ 𝑏𝑡𝑏𝑡𝑇, (5.10)\n",
        "\n",
        "2. Шаг коррекции:\n",
        "\n",
        "𝑋̂𝑡= 𝑋̃𝑡+ 𝑘̃𝑡𝐴𝑡𝑇 (𝐴𝑡𝑘̃𝑡𝐴𝑡𝑇+ 𝐵𝑡𝐵𝑡𝑇)+(𝑌𝑡− 𝐴𝑡𝑋̃𝑡−𝐶𝑡), (5.11) 𝑘𝑡= 𝑘̃𝑡− 𝑘̃𝑡𝐴𝑡𝑇 (𝐴𝑡𝑘̃𝑡𝐴𝑡𝑇+ 𝐵𝑡𝐵𝑡𝑇)+ 𝐴𝑡𝑘̃𝑡. (5.12)\n",
        "\n",
        "3. Начальное условие\n",
        "\n",
        "𝑋̂0= 𝑚0+𝐷0𝐴0𝑇(𝐴0𝐷0𝐴0𝑇+𝐵0𝐵0𝑇)^(+)*(𝑌0− 𝐴0𝑚0− 𝐶0), (5.13) 𝑘0= 𝐷0− 𝐷0𝐴0𝑇(𝐴0𝐷0𝐴0𝑇+𝐵0𝐵0𝑇)+𝐴0𝐷0. (5.14)"
      ]
    },
    {
      "cell_type": "code",
      "metadata": {
        "id": "iiPQAqhFzRx8"
      },
      "source": [
        "import numpy as np"
      ],
      "execution_count": null,
      "outputs": []
    },
    {
      "cell_type": "code",
      "metadata": {
        "id": "5T35RuaUwZZ2"
      },
      "source": [
        "a, b, c, A, B, C, m0, D0 = (1, 0.5, 0, 1, 1, 0, 0, 1)\n",
        "t_start, t_end = (0, 100)"
      ],
      "execution_count": null,
      "outputs": []
    },
    {
      "cell_type": "code",
      "metadata": {
        "id": "kVaiSD7wyF30"
      },
      "source": [
        "a_t = [a for i in range(t_end + 1)]\n",
        "b_t = [a for i in range(t_end + 1)]\n",
        "c_t = [c for i in range(t_end + 1)]\n",
        "A_t = [A for i in range(t_end + 1)]\n",
        "B_t = [B for i in range(t_end + 1)]\n",
        "C_t = [C for i in range(t_end + 1)]"
      ],
      "execution_count": null,
      "outputs": []
    },
    {
      "cell_type": "code",
      "metadata": {
        "id": "S4goVebRz56K"
      },
      "source": [
        "A_0, B_0, C_0, V_0, W_0 = (1, 1, 0, np.random.normal(loc=0.0, scale=1.0), np.random.normal(loc=0.0, scale=1.0))"
      ],
      "execution_count": null,
      "outputs": []
    },
    {
      "cell_type": "code",
      "metadata": {
        "id": "PNGugDVc0Shn"
      },
      "source": [
        "X_0 = np.random.normal(loc=m0, scale=D0)\n",
        "Y_0 = A_0 * X_0 + C_0 + B_0 * W_0"
      ],
      "execution_count": null,
      "outputs": []
    },
    {
      "cell_type": "code",
      "metadata": {
        "colab": {
          "base_uri": "https://localhost:8080/"
        },
        "id": "GYfAuLQN0vMo",
        "outputId": "189ebbbd-4361-4816-ffa4-5fd18332d5d8"
      },
      "source": [
        "print(X_0, Y_0)"
      ],
      "execution_count": null,
      "outputs": [
        {
          "output_type": "stream",
          "name": "stdout",
          "text": [
            "0.6917275807006845 0.9944763758843631\n"
          ]
        }
      ]
    },
    {
      "cell_type": "markdown",
      "metadata": {
        "id": "kV6p0-uY91da"
      },
      "source": [
        "𝑋𝑡= 𝑎𝑡𝑋𝑡−1+с𝑡+ 𝑏𝑡𝑉𝑡,𝑡 ∈ ℕ, 𝑋0 ~ 𝒩(𝑚0,𝐷0), 𝑌𝑡= 𝐴𝑡𝑋𝑡+С𝑡+ 𝐵𝑡𝑊𝑡,"
      ]
    },
    {
      "cell_type": "code",
      "metadata": {
        "id": "SbA-Lokg031z"
      },
      "source": [
        "def create_real(a_t, b_t, c_t, A_t, B_t, C_t, X_0, Y_0, t_end):\n",
        "  X, Y = [X_0], [Y_0]\n",
        "  W = np.random.normal(loc=0.0, scale=1.0, size = t_end + 1)\n",
        "  V = np.random.normal(loc=0.0, scale=1.0, size = t_end + 1)\n",
        "  for i in range(1, t_end + 1):\n",
        "    X.append(a_t[i] * X[i - 1] + c_t[i] + b_t[i] * V[i])\n",
        "    Y.append(A_t[i] * X[i] + C_t[i] + B_t[i] * W[i])\n",
        "  return X, Y"
      ],
      "execution_count": null,
      "outputs": []
    },
    {
      "cell_type": "code",
      "metadata": {
        "id": "Z1nHGWqU2jHC"
      },
      "source": [
        "X, Y = create_real(a_t, b_t, c_t, A_t, B_t, C_t, X_0, Y_0, t_end)"
      ],
      "execution_count": null,
      "outputs": []
    },
    {
      "cell_type": "markdown",
      "metadata": {
        "id": "e-3WawXx-t4x"
      },
      "source": [
        "𝑋̂0= 𝑚0+𝐷0𝐴0𝑇(𝐴0𝐷0𝐴0𝑇+𝐵0𝐵0𝑇)^(+)*(𝑌0− 𝐴0𝑚0− 𝐶0), (5.13) 𝑘0= 𝐷0− 𝐷0𝐴0𝑇(𝐴0𝐷0𝐴0𝑇+𝐵0𝐵0𝑇)^(+)𝐴0𝐷0. (5.14)"
      ]
    },
    {
      "cell_type": "code",
      "metadata": {
        "id": "TNjlIffQ3ADl"
      },
      "source": [
        "def start_pred(A_t, B_t, C_t, m0, D0, Y_0):\n",
        "  X_pred_0 = m0 + ((D0 * A_t[0]) / (A_t[0] * D0 * A_t[0] + B_t[0] * B_t[0])) * (Y_0 - A_t[0] * m0 - C_t[0])\n",
        "  Y_pred_0 = Y_0\n",
        "  k_pred_0 = D0 - ((D0 * A_t[0]) / (A_t[0] * D0 * A_t[0] + B_t[0] * B_t[0])) * A_t[0] * D0\n",
        "  return X_pred_0, Y_pred_0, k_pred_0"
      ],
      "execution_count": null,
      "outputs": []
    },
    {
      "cell_type": "code",
      "metadata": {
        "id": "qC5X-AyK4UOM"
      },
      "source": [
        "X_pred_0, Y_pred_0, k_pred_0 = start_pred(A_t, B_t, C_t, m0, D0, Y_0)"
      ],
      "execution_count": null,
      "outputs": []
    },
    {
      "cell_type": "markdown",
      "metadata": {
        "id": "RmDgycKf_d1i"
      },
      "source": [
        "𝑋̃𝑡= 𝐸[𝑋𝑡 |𝒴𝑡−1]= 𝑎𝑡𝑋̂𝑡−1+ 𝑐𝑡, (5.9) 𝑘̃𝑡= 𝑐𝑜𝑣(𝑋̃𝑡− 𝑋𝑡,𝑋̃𝑡− 𝑋𝑡)=𝑎𝑡𝑘𝑡−1𝑎𝑡𝑇+ 𝑏𝑡𝑏𝑡𝑇, (5.10)\n",
        "\n",
        "\n",
        "𝑋̂𝑡= 𝑋̃𝑡+ 𝑘̃𝑡𝐴𝑡𝑇 (𝐴𝑡𝑘̃𝑡𝐴𝑡𝑇+ 𝐵𝑡𝐵𝑡𝑇)+(𝑌𝑡− 𝐴𝑡𝑋̃𝑡−𝐶𝑡), (5.11) 𝑘𝑡= 𝑘̃𝑡− 𝑘̃𝑡𝐴𝑡𝑇 (𝐴𝑡𝑘̃𝑡𝐴𝑡𝑇+ 𝐵𝑡𝐵𝑡𝑇)+ 𝐴𝑡𝑘̃𝑡. (5.12)"
      ]
    },
    {
      "cell_type": "code",
      "metadata": {
        "id": "_6PwToGh4uS-"
      },
      "source": [
        "def forec(X_pred_t, k_pred_t, i):\n",
        "  X_for = a_t[i] * X_pred_t[i - 1] + c_t[i]\n",
        "  k_for = a_t[i] * k_pred_t[i - 1] * a_t[i] + b_t[i] * b_t[i]\n",
        "  return X_for, k_for\n",
        "\n",
        "def correc(X_for, k_for, Y, i):\n",
        "  temp = A_t[i] * k_for * A_t[i] + B_t[i] * B_t[i]\n",
        "  if temp != 0:\n",
        "    temp = 1 / temp\n",
        "  X_cor = X_for + k_for * A_t[i] * temp * (Y[i] - A_t[i] * X_for - C_t[i])\n",
        "  k_cor = k_for - k_for * A_t[i] * temp * A_t[i] * k_for\n",
        "  return X_cor, k_cor "
      ],
      "execution_count": null,
      "outputs": []
    },
    {
      "cell_type": "code",
      "metadata": {
        "id": "14IR-m6O7aw0"
      },
      "source": [
        "from tqdm import tqdm"
      ],
      "execution_count": null,
      "outputs": []
    },
    {
      "cell_type": "code",
      "metadata": {
        "colab": {
          "base_uri": "https://localhost:8080/"
        },
        "id": "CbFsN5EJ7mso",
        "outputId": "e20b8bc7-4c23-4c79-b61e-1720d4c0e787"
      },
      "source": [
        "X_pred_t = [X_pred_0]\n",
        "k_pred_t = [k_pred_0]\n",
        "for i in tqdm(range(1, t_end + 1)):\n",
        "  X_for, k_for = forec(X_pred_t, k_pred_t, i)\n",
        "  X_cor, k_cor = correc(X_for, k_for, Y, i)\n",
        "  X_pred_t.append(X_cor)\n",
        "  k_pred_t.append(k_cor)"
      ],
      "execution_count": null,
      "outputs": [
        {
          "output_type": "stream",
          "name": "stderr",
          "text": [
            "100%|██████████| 100/100 [00:00<00:00, 32927.49it/s]\n"
          ]
        }
      ]
    },
    {
      "cell_type": "code",
      "metadata": {
        "id": "j1aTiggA9Hwa"
      },
      "source": [
        "import matplotlib.pylab as plt"
      ],
      "execution_count": null,
      "outputs": []
    },
    {
      "cell_type": "code",
      "metadata": {
        "colab": {
          "base_uri": "https://localhost:8080/",
          "height": 282
        },
        "id": "RjEHeZTK4qL4",
        "outputId": "ea55249c-701e-4c65-db6e-f80db67828e0"
      },
      "source": [
        "plt.plot(np.arange(t_end + 1), X_pred_t, label = \"предсказанное\")\n",
        "plt.plot(np.arange(t_end + 1), X, label = \"реальное\")\n",
        "plt.legend()"
      ],
      "execution_count": null,
      "outputs": [
        {
          "output_type": "execute_result",
          "data": {
            "text/plain": [
              "<matplotlib.legend.Legend at 0x7f7af6cda250>"
            ]
          },
          "metadata": {},
          "execution_count": 18
        },
        {
          "output_type": "display_data",
          "data": {
            "image/png": "[encoded data removed]",
            "text/plain": [
              "<Figure size 432x288 with 1 Axes>"
            ]
          },
          "metadata": {
            "needs_background": "light"
          }
        }
      ]
    },
    {
      "cell_type": "code",
      "metadata": {
        "colab": {
          "base_uri": "https://localhost:8080/",
          "height": 282
        },
        "id": "zWvY-lmO4rwM",
        "outputId": "d33ebf5e-fb31-4213-f0b6-ace96f1c6825"
      },
      "source": [
        "plt.plot(np.arange(t_end + 1), k_pred_t)"
      ],
      "execution_count": null,
      "outputs": [
        {
          "output_type": "execute_result",
          "data": {
            "text/plain": [
              "[<matplotlib.lines.Line2D at 0x7f7af76c1c50>]"
            ]
          },
          "metadata": {},
          "execution_count": 16
        },
        {
          "output_type": "display_data",
          "data": {
            "image/png": "[encoded data removed]",
            "text/plain": [
              "<Figure size 432x288 with 1 Axes>"
            ]
          },
          "metadata": {
            "needs_background": "light"
          }
        }
      ]
    },
    {
      "cell_type": "markdown",
      "metadata": {
        "id": "OKCa2loLRBsb"
      },
      "source": [
        "Сделаем для других параметров"
      ]
    },
    {
      "cell_type": "code",
      "metadata": {
        "id": "tIdCUpIIRDvt"
      },
      "source": [
        "a, b, c, A, B, C, m0, D0 = (-0.5, 0.5, 1, 1, 1, 0, 0, 1)\n",
        "t_start, t_end = (0, 100)"
      ],
      "execution_count": null,
      "outputs": []
    },
    {
      "cell_type": "code",
      "metadata": {
        "id": "_Zu9g198RSHW"
      },
      "source": [
        "a_t = [a for i in range(t_end + 1)]\n",
        "b_t = [a for i in range(t_end + 1)]\n",
        "c_t = [c for i in range(t_end + 1)]\n",
        "A_t = [A for i in range(t_end + 1)]\n",
        "B_t = [B for i in range(t_end + 1)]\n",
        "C_t = [C for i in range(t_end + 1)]"
      ],
      "execution_count": null,
      "outputs": []
    },
    {
      "cell_type": "code",
      "metadata": {
        "id": "1AReVKAyRUZP"
      },
      "source": [
        "A_0, B_0, C_0, V_0, W_0 = (1, 1, 0, np.random.normal(loc=0.0, scale=1.0), np.random.normal(loc=0.0, scale=1.0))"
      ],
      "execution_count": null,
      "outputs": []
    },
    {
      "cell_type": "code",
      "metadata": {
        "id": "CDLL58oSRXLq"
      },
      "source": [
        "X_0 = np.random.normal(loc=m0, scale=D0)\n",
        "Y_0 = A_0 * X_0 + C_0 + B_0 * W_0"
      ],
      "execution_count": null,
      "outputs": []
    },
    {
      "cell_type": "code",
      "metadata": {
        "id": "3NNY8zy4RaWT"
      },
      "source": [
        "X, Y = create_real(a_t, b_t, c_t, A_t, B_t, C_t, X_0, Y_0, t_end)"
      ],
      "execution_count": null,
      "outputs": []
    },
    {
      "cell_type": "code",
      "metadata": {
        "id": "1OSlfyZMRdBD"
      },
      "source": [
        "X_pred_0, Y_pred_0, k_pred_0 = start_pred(A_t, B_t, C_t, m0, D0, Y_0)"
      ],
      "execution_count": null,
      "outputs": []
    },
    {
      "cell_type": "code",
      "metadata": {
        "colab": {
          "base_uri": "https://localhost:8080/"
        },
        "id": "rgz_ErkNRgIv",
        "outputId": "9b022bf4-d5eb-4fdb-ac44-79f6ac1a3414"
      },
      "source": [
        "X_pred_t = [X_pred_0]\n",
        "k_pred_t = [k_pred_0]\n",
        "for i in tqdm(range(1, t_end + 1)):\n",
        "  X_for, k_for = forec(X_pred_t, k_pred_t, i)\n",
        "  X_cor, k_cor = correc(X_for, k_for, Y, i)\n",
        "  X_pred_t.append(X_cor)\n",
        "  k_pred_t.append(k_cor)"
      ],
      "execution_count": null,
      "outputs": [
        {
          "output_type": "stream",
          "name": "stderr",
          "text": [
            "100%|██████████| 100/100 [00:00<00:00, 164418.03it/s]\n"
          ]
        }
      ]
    },
    {
      "cell_type": "code",
      "metadata": {
        "colab": {
          "base_uri": "https://localhost:8080/",
          "height": 282
        },
        "id": "Vi9JcGbkRij_",
        "outputId": "3d222ebc-f313-4aaf-b524-763801baa27b"
      },
      "source": [
        "plt.plot(np.arange(t_end + 1), X_pred_t, label = \"предсказанное\")\n",
        "plt.plot(np.arange(t_end + 1), X, label = \"реальное\")\n",
        "plt.legend()"
      ],
      "execution_count": null,
      "outputs": [
        {
          "output_type": "execute_result",
          "data": {
            "text/plain": [
              "<matplotlib.legend.Legend at 0x7f7af6c55d90>"
            ]
          },
          "metadata": {},
          "execution_count": 26
        },
        {
          "output_type": "display_data",
          "data": {
            "image/png": "[encoded data removed]",
            "text/plain": [
              "<Figure size 432x288 with 1 Axes>"
            ]
          },
          "metadata": {
            "needs_background": "light"
          }
        }
      ]
    },
    {
      "cell_type": "markdown",
      "metadata": {
        "id": "wFyklrzQnhEH"
      },
      "source": [
        "Задача 5.2. «На инженерном уровне точности», используя аппроксимацию Эйлера-Мару-ямы, вывести уравнения фильтра Калмана-Бьюси."
      ]
    },
    {
      "cell_type": "markdown",
      "metadata": {
        "id": "ihqP0lH0nmHw"
      },
      "source": [
        "Определение 3.8. Схема\n",
        "\n",
        "𝑌𝑚𝑛= 𝑌𝑚−1𝑛+ 𝑎(𝑌𝑚−1𝑛,𝜏𝑚−1𝑛)ℎ+ 𝑎(𝑌𝑚−1𝑛,𝜏𝑚−1𝑛) (𝑤(𝜏𝑚𝑛)−𝑤(𝜏𝑚−1𝑛)), 𝑌𝑚𝑛=𝑋0 (3.27)\n",
        "\n",
        "называется схемой Эйлера (Эйлера-Маруямы)."
      ]
    },
    {
      "cell_type": "markdown",
      "metadata": {
        "id": "H1X06yrlnwwB"
      },
      "source": [
        "Для фильтра Калмана-Бьюси\n",
        "\n",
        "𝑑𝑋𝑡= (𝑎𝑡𝑋𝑡+ с𝑡)𝑑𝑡+ 𝑏𝑡𝑑𝑤𝑡,𝑡>0, 𝑋0 ~ 𝒩(𝑚0,𝐷0), (5.17),\n",
        "\n",
        "𝑑𝑌𝑡= (𝐴𝑡𝑋𝑡+𝐶𝑡)𝑑𝑡+ 𝐵𝑡𝑑𝑊𝑡, 𝑡>0, 𝑌0=0 (5.18)."
      ]
    },
    {
      "cell_type": "code",
      "metadata": {
        "id": "4udrhhjToHKU"
      },
      "source": [
        "a, b, c, A, B, C, m0, D0 = (1, 1, 1, 1, 1, 0, 0, 1)\n",
        "h = 1e-4\n",
        "T = 1\n",
        "grid = np.arange(0, T + h, h)\n",
        "last = grid.shape[0]"
      ],
      "execution_count": null,
      "outputs": []
    },
    {
      "cell_type": "code",
      "metadata": {
        "id": "8kmVfxYuncMb"
      },
      "source": [
        "X_0 = np.random.normal(loc=m0, scale=D0)\n",
        "Y_0 = 0"
      ],
      "execution_count": null,
      "outputs": []
    },
    {
      "cell_type": "markdown",
      "metadata": {
        "id": "ftFz4bfgoSF_"
      },
      "source": [
        "Сделаем X, Y по (5.17) и (5.18)"
      ]
    },
    {
      "cell_type": "code",
      "metadata": {
        "id": "S6hNL7KnoZrv"
      },
      "source": [
        "def create_X_Y(a, b, c, A, B, C, h, X_0, Y_0, last):\n",
        "  X, Y = [X_0], [Y_0]\n",
        "  for i in range(1, last):\n",
        "    X.append((X[i - 1] + c * h + b * np.random.normal(loc=0.0, scale=np.sqrt(h))) / (1 - a * h))\n",
        "    Y.append(A * X[i] + C + B * np.random.normal(loc=0.0, scale=np.sqrt(h)))\n",
        "  return X, Y"
      ],
      "execution_count": null,
      "outputs": []
    },
    {
      "cell_type": "code",
      "metadata": {
        "id": "jYXJKG5DpWAi"
      },
      "source": [
        "X, Y = create_X_Y(a, b, c, A, B, C, h, X_0, Y_0, last)"
      ],
      "execution_count": null,
      "outputs": []
    },
    {
      "cell_type": "markdown",
      "metadata": {
        "id": "ND5hlkNspsTG"
      },
      "source": [
        "𝑑𝑋̅𝑡= (𝑎𝑡𝑋̅𝑡+ 𝑐𝑡)𝑑𝑡+ 𝑘𝑡𝐴𝑡𝑇 (𝐵𝑡𝐵𝑡𝑇)−1(𝑑𝑌𝑡− (𝐴𝑡𝑋̅𝑡−𝐶𝑡)𝑑𝑡), (5.19) \n",
        "\n",
        "𝑘̇𝑡= 𝑎𝑡𝑘𝑡𝑎𝑡𝑇+ 𝑏𝑡𝑏𝑡𝑇− 𝑘𝑡𝐴𝑡𝑇 (𝐵𝑡𝐵𝑡𝑇)−1 𝑘𝑡𝐴𝑡 (5.20)"
      ]
    },
    {
      "cell_type": "markdown",
      "metadata": {
        "id": "f8rC0i5Xp0cb"
      },
      "source": [
        "Используя 5.19 и 5.20 выведем k_t, а затем a_func, b_func для метода Эйлера-Маруямы"
      ]
    },
    {
      "cell_type": "markdown",
      "metadata": {
        "id": "tetV09YGqCpD"
      },
      "source": [
        "k_t' = k_t + 1 - k_t^2, k_0 = D0"
      ]
    },
    {
      "cell_type": "markdown",
      "metadata": {
        "id": "_GbO9s-Qtvz5"
      },
      "source": [
        "Решение: (-3 + sqrt(5) + (3 + sqrt(5)) e^(sqrt(5) t))/(-1 + sqrt(5) + (1 + sqrt(5)) e^(sqrt(5) t))"
      ]
    },
    {
      "cell_type": "code",
      "metadata": {
        "id": "vXvV5qeMsEQd"
      },
      "source": [
        "def k_t_func(i):\n",
        "  return (-3 + np.sqrt(5) + (3 + np.sqrt(5)) * np.e**(np.sqrt(5) * i)) / ( -1 + np.sqrt(5) + (1 + np.sqrt(5)) * np.e**(np.sqrt(5) * i))\n",
        "\n",
        "def a_func(a, b, c, A, B, C, y, i):\n",
        "  temp = k_t_func(i) * A / (B ** 2)\n",
        "  return (a - temp * A) * y + c + temp * C\n",
        "\n",
        "def b_func(A, B, i):\n",
        "  return k_t_func(i) * A / (B ** 2)\n",
        "\n",
        "def dY(i):\n",
        "  return Y[i] - Y[i - 1]"
      ],
      "execution_count": null,
      "outputs": []
    },
    {
      "cell_type": "code",
      "metadata": {
        "colab": {
          "base_uri": "https://localhost:8080/",
          "height": 282
        },
        "id": "M8TucSLJucr5",
        "outputId": "3da63294-bb1f-4057-9051-e0b8ee82e19e"
      },
      "source": [
        "my_y = np.zeros(last)\n",
        "my_y[0] = m0\n",
        "\n",
        "for i in range(1, last):\n",
        "    t_cur = grid[i - 1]\n",
        "    y_last = my_y[i - 1]\n",
        "    my_y[i] = y_last + a_func(a, b, c, A, B, C, y_last, t_cur) * h + b_func(A, B, t_cur) * dY(i)\n",
        "plt.plot(np.arange(grid.shape[0]), my_y, label='predicted')\n",
        "plt.plot(np.arange(grid.shape[0]), X, label='real')\n",
        "plt.legend()"
      ],
      "execution_count": null,
      "outputs": [
        {
          "output_type": "execute_result",
          "data": {
            "text/plain": [
              "<matplotlib.legend.Legend at 0x7f7af2b5be50>"
            ]
          },
          "metadata": {},
          "execution_count": 39
        },
        {
          "output_type": "display_data",
          "data": {
            "image/png": "[encoded data removed]",
            "text/plain": [
              "<Figure size 432x288 with 1 Axes>"
            ]
          },
          "metadata": {
            "needs_background": "light"
          }
        }
      ]
    }
  ]
}