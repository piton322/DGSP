{
  "nbformat": 4,
  "nbformat_minor": 0,
  "metadata": {
    "colab": {
      "name": "dgsp_8.ipynb",
      "provenance": []
    },
    "kernelspec": {
      "name": "python3",
      "display_name": "Python 3"
    },
    "language_info": {
      "name": "python"
    }
  },
  "cells": [
    {
      "cell_type": "markdown",
      "metadata": {
        "id": "MQrYZleiN3J7"
      },
      "source": [
        "Задача 6.4\n",
        "Погода в сказочной местности имеет два состояния: «дождливо» и «солнечно», и ее смена описывается МЦ. О погоде нам ничего не известно, но известно, как некоторая личность\n",
        "\n",
        "проводит время в зависимости от погоды. Задача – по наблюдениям за этой личностью на протяжении одного года (365 отсчетов) оценить погоду. Построить оптимальную нелиней-ную оценку и оптимальную линейную оценку.\n",
        "\n",
        "1) На одном графике в зависимости от номера дня вывести индикатор солнечной погоды, оптимальную нелинейную оценку индикатора этого события и оптимальную линейную оценку индикатора этого события.\n",
        "\n",
        "2) На одном графике путем осреднения по пучку из 100 000 траекторий в зависимости от номера дня построить выборочное СКО ошибки оценки индикатора солнечной погоды, сравнить его с СКО оптимальной линейной оценки этого события и СКО самого инди-катора."
      ]
    },
    {
      "cell_type": "code",
      "metadata": {
        "id": "BUmZsk7sevSD"
      },
      "source": [
        "import numpy as np\n",
        "import matplotlib.pyplot as plt\n",
        "from tqdm import tqdm"
      ],
      "execution_count": 86,
      "outputs": []
    },
    {
      "cell_type": "code",
      "metadata": {
        "id": "aakdzJRFN2bq"
      },
      "source": [
        "weather = ['rain', 'sun']\n",
        "states = ['walk', 'shop', 'clean']\n",
        "start = [0.6, 0.4]\n",
        "weather_for_rain = [0.7, 0.3]\n",
        "weather_for_sun = [0.4, 0.6]\n",
        "state_for_rain = [0.1, 0.4, 0.5]\n",
        "state_for_sun = [0.6, 0.3, 0.1]\n",
        "\n",
        "weather_prob = { 0 : weather_for_rain, 1 : weather_for_sun } # 0 - дождь, 1 -  солнце\n",
        "state_prob = { 0 : state_for_rain, 1 : state_for_sun }"
      ],
      "execution_count": 27,
      "outputs": []
    },
    {
      "cell_type": "code",
      "metadata": {
        "id": "9xc1-iQgQF1j"
      },
      "source": [
        "rng = np.random.default_rng(12345)"
      ],
      "execution_count": 28,
      "outputs": []
    },
    {
      "cell_type": "markdown",
      "metadata": {
        "id": "iKL3ya32SeCg"
      },
      "source": [
        "Создадим массивы погоды и состояний за 365 дней:"
      ]
    },
    {
      "cell_type": "code",
      "metadata": {
        "id": "ZUti8iSSQYEf"
      },
      "source": [
        "period = 365\n",
        "weather_mas = np.zeros(period)\n",
        "weather_mas[0] = rng.choice(2, p = start)\n",
        "state_mas = np.zeros(period)\n",
        "for i in range(period - 1):\n",
        "    state_mas[i] = rng.choice(3, p = state_prob[weather_mas[i]])\n",
        "    weather_mas[i + 1] = rng.choice(2, p = weather_prob[weather_mas[i]])\n",
        "state_mas[period - 1] = rng.choice(3, p = state_prob[weather_mas[period - 1]])"
      ],
      "execution_count": 31,
      "outputs": []
    },
    {
      "cell_type": "markdown",
      "metadata": {
        "id": "BvOHFAdOSvQv"
      },
      "source": [
        "Первая неделя:"
      ]
    },
    {
      "cell_type": "code",
      "metadata": {
        "colab": {
          "base_uri": "https://localhost:8080/"
        },
        "id": "I0jG3VzoRcIT",
        "outputId": "147756bb-e9cb-4d42-9911-2590e0198004"
      },
      "source": [
        "weather_mas[:7]"
      ],
      "execution_count": 34,
      "outputs": [
        {
          "output_type": "execute_result",
          "data": {
            "text/plain": [
              "array([1., 0., 0., 1., 1., 0., 1.])"
            ]
          },
          "metadata": {},
          "execution_count": 34
        }
      ]
    },
    {
      "cell_type": "code",
      "metadata": {
        "colab": {
          "base_uri": "https://localhost:8080/"
        },
        "id": "uYgr9C2USs_I",
        "outputId": "c59e6ff8-9cd7-4fe3-f7db-538f6701b312"
      },
      "source": [
        "state_mas[:7]"
      ],
      "execution_count": 35,
      "outputs": [
        {
          "output_type": "execute_result",
          "data": {
            "text/plain": [
              "array([0., 2., 2., 0., 1., 1., 1.])"
            ]
          },
          "metadata": {},
          "execution_count": 35
        }
      ]
    },
    {
      "cell_type": "code",
      "metadata": {
        "id": "Oo-PB8hrSxNY"
      },
      "source": [
        "def make_sim(weather_mas, state_mas, period):\n",
        "  weather_sim = np.zeros(shape=(period, 2))\n",
        "  state_sim = np.zeros(shape=(period, 3))\n",
        "  for i in range(period):\n",
        "    if weather_mas[i] == 1:\n",
        "      weather_sim[i, 0] = 0\n",
        "      weather_sim[i, 1] = 1\n",
        "    else:\n",
        "      weather_sim[i, 0] = 1\n",
        "      weather_sim[i, 1] = 0\n",
        "    \n",
        "    if state_mas[i] == 0:\n",
        "      state_sim[i, 0] = 1\n",
        "      state_sim[i, 1] = 0\n",
        "      state_sim[i, 2] = 0\n",
        "    else:\n",
        "      if state_mas[i] == 1:\n",
        "        state_sim[i, 0] = 0\n",
        "        state_sim[i, 1] = 1\n",
        "        state_sim[i, 2] = 0\n",
        "      else:\n",
        "        state_sim[i, 0] = 0\n",
        "        state_sim[i, 1] = 0\n",
        "        state_sim[i, 2] = 1\n",
        "  return weather_sim, state_sim"
      ],
      "execution_count": 48,
      "outputs": []
    },
    {
      "cell_type": "code",
      "metadata": {
        "id": "6L6CM6EzW-uE"
      },
      "source": [
        "my_weather, my_state = make_sim(weather_mas, state_mas, period)"
      ],
      "execution_count": 49,
      "outputs": []
    },
    {
      "cell_type": "code",
      "metadata": {
        "id": "ianSybcJahgg"
      },
      "source": [
        "def restored_weather(weather_prob, state_prob, my_state, period):\n",
        "  restored = np.zeros(shape=(period, 2))\n",
        "  restored[0, 0] = state_prob[0][my_state[0].argmax()]\n",
        "  restored[0, 1] = state_prob[1][my_state[0].argmax()]\n",
        "  restored[0] /= restored[0].sum()\n",
        "  P = np.array([weather_prob[0], weather_prob[1]])\n",
        "  for i in range(1, period):\n",
        "    restored[i] = restored[i - 1] @ P\n",
        "    restored[i, 0] *= state_prob[0][my_state[i].argmax()]\n",
        "    restored[i, 1] *= state_prob[1][my_state[i].argmax()]\n",
        "    restored[i] /= restored[i].sum()\n",
        "  return restored"
      ],
      "execution_count": 58,
      "outputs": []
    },
    {
      "cell_type": "code",
      "metadata": {
        "id": "YxGaKr7Jc6vF"
      },
      "source": [
        "weather_restored = restored_weather(weather_prob, state_prob, my_state, period)"
      ],
      "execution_count": 60,
      "outputs": []
    },
    {
      "cell_type": "markdown",
      "metadata": {
        "id": "HrOY1KC8e0SE"
      },
      "source": [
        "Теперь сделаем оценку с помощью фильтра Калмана"
      ]
    },
    {
      "cell_type": "code",
      "metadata": {
        "id": "B_Yq8aOIe5lb"
      },
      "source": [
        "def restored_Kalman(start, weather_prob, state_prob, my_state, period):\n",
        "  Q = np.array([state_prob[0], state_prob[1]])\n",
        "  P = np.array([weather_prob[0], weather_prob[1]])\n",
        "  k_restored = np.zeros(shape = (period, 2))\n",
        "  k_cov = np.zeros(shape = (period, 2, 2))\n",
        "  def predict(i, pi):\n",
        "    if i == 0:\n",
        "      k_restored[i] = pi\n",
        "      k_cov[i] = np.diag(pi) - np.outer(pi, pi)\n",
        "\n",
        "      dif = my_state[0] - Q.T @ k_restored[0]\n",
        "      k = k_cov[0] @ Q @ np.linalg.pinv(Q.T @ k_cov[0] @ Q + np.diag(Q.T @ pi) - Q.T @ np.diag(pi) @ Q)\n",
        "      return dif, k\n",
        "    else:\n",
        "      k_restored[i] = k_restored[i - 1] @ P\n",
        "      k_cov[i] = P.T @ k_cov[i - 1] @ P + np.diag(pi @ P) - P.T @ np.diag(pi) @ P\n",
        "      \n",
        "      pi = pi @ P\n",
        "\n",
        "      dif = my_state[i] - Q.T @ k_restored[i]\n",
        "      k = k_cov[i] @ Q @ np.linalg.pinv(Q.T @ k_cov[i] @ Q + np.diag(Q.T @ pi) - Q.T @ np.diag(pi) @ Q)\n",
        "      return dif, k\n",
        "\n",
        "  def correct(dif, k, i):\n",
        "    k_restored[i] +=  k @ dif\n",
        "    k_cov[i] -= k @ Q.T @ k_cov[i]\n",
        "    return\n",
        "\n",
        "  dif, k = predict(0, start)\n",
        "  correct(dif, k, 0)\n",
        "  pi = start\n",
        "  for i in range(1, period):\n",
        "    dif, k = predict(i, pi)\n",
        "    pi = pi @ P\n",
        "    correct(dif, k, i)\n",
        "  return k_restored, k_cov"
      ],
      "execution_count": 88,
      "outputs": []
    },
    {
      "cell_type": "code",
      "metadata": {
        "id": "AiT3P6ZolbgA"
      },
      "source": [
        "k_restored_weather, k_cov = restored_Kalman(start, weather_prob, state_prob, my_state, period)"
      ],
      "execution_count": 89,
      "outputs": []
    },
    {
      "cell_type": "code",
      "metadata": {
        "colab": {
          "base_uri": "https://localhost:8080/",
          "height": 282
        },
        "id": "8C9yg2BqnbHX",
        "outputId": "bf8cb6c5-f343-4ade-a028-65213e9a8a60"
      },
      "source": [
        "plt.scatter(range(period), my_weather[:,1], label='true')\n",
        "plt.scatter(range(period), weather_restored[:,1], label='линейная')\n",
        "plt.scatter(range(period), k_restored_weather[:,1], label='нелинейная')\n",
        "plt.legend()"
      ],
      "execution_count": 84,
      "outputs": [
        {
          "output_type": "execute_result",
          "data": {
            "text/plain": [
              "<matplotlib.legend.Legend at 0x7f9a323d23d0>"
            ]
          },
          "metadata": {},
          "execution_count": 84
        },
        {
          "output_type": "display_data",
          "data": {
            "image/png": "[encoded data removed]",
            "text/plain": [
              "<Figure size 432x288 with 1 Axes>"
            ]
          },
          "metadata": {
            "needs_background": "light"
          }
        }
      ]
    },
    {
      "cell_type": "code",
      "metadata": {
        "colab": {
          "base_uri": "https://localhost:8080/"
        },
        "id": "Jw-7roL1ov6A",
        "outputId": "a3be8483-f49c-49db-b0fa-62847a402325"
      },
      "source": [
        "N = 100000\n",
        "my_error = np.zeros(shape=(N, period))\n",
        "for i in tqdm(range(N)):\n",
        "  weather_m, state_m = make_sim(weather_mas, state_mas, period)\n",
        "  restor = restored_weather(weather_prob, state_prob, state_m, period)\n",
        "  my_error[i] = weather_m[:, 1] - restor[:, 1]"
      ],
      "execution_count": 87,
      "outputs": [
        {
          "output_type": "stream",
          "name": "stderr",
          "text": [
            "100%|██████████| 10000/10000 [00:55<00:00, 179.03it/s]\n"
          ]
        }
      ]
    },
    {
      "cell_type": "code",
      "metadata": {
        "id": "IE1BjsulpxVT"
      },
      "source": [
        "w, s = make_sim(weather_mas, state_mas, period)\n",
        "k_restored_weather, k_cov = restored_Kalman(start, weather_prob, state_prob, s, period)"
      ],
      "execution_count": 90,
      "outputs": []
    },
    {
      "cell_type": "code",
      "metadata": {
        "colab": {
          "base_uri": "https://localhost:8080/",
          "height": 282
        },
        "id": "fX9VJeb7qiDr",
        "outputId": "ebb75661-c901-4b0e-c42c-cdbaf5eb96e9"
      },
      "source": [
        "plt.scatter(range(period), [k_restored_weather.std()] * period, label='error', s=10)\n",
        "plt.scatter(range(period), np.sqrt(k_cov[:, 1, 1]), label='Kalman', s=10)\n",
        "plt.scatter(range(period), np.std(my_error, axis=0), label='Optimal', s=10)\n",
        "plt.legend()"
      ],
      "execution_count": 92,
      "outputs": [
        {
          "output_type": "execute_result",
          "data": {
            "text/plain": [
              "<matplotlib.legend.Legend at 0x7f9a3226cdd0>"
            ]
          },
          "metadata": {},
          "execution_count": 92
        },
        {
          "output_type": "display_data",
          "data": {
            "image/png": "[encoded data removed]",
            "text/plain": [
              "<Figure size 432x288 with 1 Axes>"
            ]
          },
          "metadata": {
            "needs_background": "light"
          }
        }
      ]
    },
    {
      "cell_type": "markdown",
      "metadata": {
        "id": "eZoUmuMJr4Tz"
      },
      "source": [
        "Задача 6.5. (Классификация №1) Имеются 100 несимметричных монет: n-я монета выпа-дает орлом вверх с вероятностью 𝑃𝑛=0,5+0,001×(𝑛 −50). Из монет один раз равнове-роятным образом выбирается монета, которая затем последовательно подбрасывается. По результатам подбрасывания монеты построить оценку номера выбранной монеты. Число подбрасываний 10 000.\n",
        "\n",
        "1) На одном графике в зависимости от номера подбрасывания вывести истинный номер выбранной монеты и номер наиболее вероятной монеты.\n",
        "\n",
        "2) На одном графике в зависимости от номера подбрасывания вывести вероятность выпа-дения орла выбранной монеты и частоту выпадения орла, реализовавшуюся в серии."
      ]
    },
    {
      "cell_type": "code",
      "metadata": {
        "id": "WEk5Ko2grgMF"
      },
      "source": [
        "n = 100\n",
        "N = 10000\n",
        "Q = [[0.5 + 0.001 * (i - 50), 1 - (0.5 + 0.001 * (i - 50))] for i in range(1, n + 1)]"
      ],
      "execution_count": 158,
      "outputs": []
    },
    {
      "cell_type": "code",
      "metadata": {
        "id": "edWPHVnXsmPc"
      },
      "source": [
        "def create_X_Y(n, N, Q, const):\n",
        "  X = np.zeros(n)\n",
        "  idx = rng.choice(np.arange(n), p = [1 / n]*n)\n",
        "  X[idx] = 1\n",
        "  Y = np.zeros((N, const))\n",
        "  Y_idx = rng.choice(np.arange(0, const), size=N, p = Q[idx])\n",
        "  for i, j in enumerate(Y_idx):\n",
        "    Y[i, j] = 1\n",
        "  return X, Y, idx, Y_idx"
      ],
      "execution_count": 177,
      "outputs": []
    },
    {
      "cell_type": "code",
      "metadata": {
        "id": "EJfRK1r6tv8-"
      },
      "source": [
        "X, Y, idx, Y_idx = create_X_Y(n, N, Q, 2)"
      ],
      "execution_count": 166,
      "outputs": []
    },
    {
      "cell_type": "code",
      "metadata": {
        "id": "wYxg8yQxuxsw"
      },
      "source": [
        "def make_pred(n, N, Q, Y):\n",
        "  def predict2(i):\n",
        "    return P.T @ X_pred[i]\n",
        "\n",
        "\n",
        "  def correct2(i, mas, Q, Y):\n",
        "    res = np.zeros((n, n))\n",
        "    np.fill_diagonal(res, Q @ Y[i][:, None])\n",
        "    res = res @ mas\n",
        "    \n",
        "    return res / np.sum(res)\n",
        "  X_pred = []\n",
        "  X_cur = correct2(0, np.array([1. / n]*n)[:, None], Q, Y)\n",
        "  X_pred.append(X_cur)\n",
        "  for i in range(1, N):\n",
        "    X_pr = predict2(i - 1)\n",
        "    X_cur = correct2(i, X_pr, Q, Y)\n",
        "    X_pred.append(X_cur)\n",
        "  return X_pred"
      ],
      "execution_count": 188,
      "outputs": []
    },
    {
      "cell_type": "code",
      "metadata": {
        "id": "SFJdxUPNwb8A"
      },
      "source": [
        "X_pred = make_pred(n, N, Q, Y)"
      ],
      "execution_count": 189,
      "outputs": []
    },
    {
      "cell_type": "code",
      "metadata": {
        "id": "aykivVgmxOfq"
      },
      "source": [
        "coin_predict = list(map(np.argmax, X_pred))"
      ],
      "execution_count": 190,
      "outputs": []
    },
    {
      "cell_type": "code",
      "metadata": {
        "colab": {
          "base_uri": "https://localhost:8080/",
          "height": 282
        },
        "id": "N51HvYu7xTpv",
        "outputId": "b025181b-cd93-459c-c19c-d1eb85f2335c"
      },
      "source": [
        "plt.plot(np.arange(N), coin_predict)\n",
        "plt.plot(np.arange(N), [idx] * N)"
      ],
      "execution_count": 191,
      "outputs": [
        {
          "output_type": "execute_result",
          "data": {
            "text/plain": [
              "[<matplotlib.lines.Line2D at 0x7f9a272aa490>]"
            ]
          },
          "metadata": {},
          "execution_count": 191
        },
        {
          "output_type": "display_data",
          "data": {
            "image/png": "[encoded data removed]",
            "text/plain": [
              "<Figure size 432x288 with 1 Axes>"
            ]
          },
          "metadata": {
            "needs_background": "light"
          }
        }
      ]
    },
    {
      "cell_type": "code",
      "metadata": {
        "id": "4QCjIymJxk71"
      },
      "source": [
        "def func_for_orel(N):\n",
        "  orel_mas = []\n",
        "  n = 0\n",
        "  for i in range(N):\n",
        "    n += int(Y_idx[i] == 0)\n",
        "    orel_mas.append(n)\n",
        "  return orel_mas"
      ],
      "execution_count": 171,
      "outputs": []
    },
    {
      "cell_type": "code",
      "metadata": {
        "id": "zPMrAIENyHoL"
      },
      "source": [
        "orel_ns = func_for_orel(N)"
      ],
      "execution_count": 172,
      "outputs": []
    },
    {
      "cell_type": "code",
      "metadata": {
        "colab": {
          "base_uri": "https://localhost:8080/",
          "height": 282
        },
        "id": "Ne1yLfEFyOd0",
        "outputId": "7c4025fa-61e3-4e87-f0c8-d25d0962b44f"
      },
      "source": [
        "plt.plot(np.arange(N), orel_ns / np.arange(1, N + 1))\n",
        "plt.plot(np.arange(N), [Q[idx - 1][0]]*N)"
      ],
      "execution_count": 173,
      "outputs": [
        {
          "output_type": "execute_result",
          "data": {
            "text/plain": [
              "[<matplotlib.lines.Line2D at 0x7f9a30e7e210>]"
            ]
          },
          "metadata": {},
          "execution_count": 173
        },
        {
          "output_type": "display_data",
          "data": {
            "image/png": "[encoded data removed]",
            "text/plain": [
              "<Figure size 432x288 with 1 Axes>"
            ]
          },
          "metadata": {
            "needs_background": "light"
          }
        }
      ]
    },
    {
      "cell_type": "markdown",
      "metadata": {
        "id": "8oJhb1YPzFIr"
      },
      "source": [
        "Задача 6.6. (Классификация №2) Имеются 100 несимметричных игральных костей: n-я кость имеет следующее распределение 𝑃𝑛{𝑋=𝑘}=𝐶𝑛[16+0,001×𝑐𝑜𝑠(𝜋𝑘3+𝜋𝑛50)], (𝐶𝑛 – нормировочная константа). Из костей один раз равновероятным образом выбирается одна, которая затем последовательно подбрасывается. По результатам подбрасывания кости по-строить оценку номера выбранной кости. Число подбрасываний 10 000.\n",
        "\n",
        "1) На одном графике в зависимости от номера подбрасывания вывести истинный номер выбранной кости и номер наиболее вероятной кости.\n",
        "\n",
        "2) На одном графике в зависимости от номера подбрасывания вывести распределение вы-бранной кости и частоты выпадения граней, реализовавшихся в серии."
      ]
    },
    {
      "cell_type": "code",
      "metadata": {
        "id": "4vtz7Cz2zB78"
      },
      "source": [
        "n1 = 100\n",
        "N1 = 10000\n",
        "Q1 = np.zeros((n1, 6))\n",
        "for i in range(Q1.shape[0]):\n",
        "    for j in range(Q1.shape[1]):\n",
        "        Q1[i, j] = 1/6 + 0.001 * np.cos((np.pi * j) / 3 + (np.pi * i) / 50)"
      ],
      "execution_count": 213,
      "outputs": []
    },
    {
      "cell_type": "code",
      "metadata": {
        "id": "Dz-KvXtrzzP3"
      },
      "source": [
        "X1, Y1, idx1, Y_idx1 = create_X_Y(n1, N1, Q1, 6)"
      ],
      "execution_count": 214,
      "outputs": []
    },
    {
      "cell_type": "code",
      "metadata": {
        "id": "einmx1dN06Lf"
      },
      "source": [
        "X_pred1 = make_pred(n1, N1, Q1, Y1)"
      ],
      "execution_count": 215,
      "outputs": []
    },
    {
      "cell_type": "code",
      "metadata": {
        "id": "RABtYWlE1wr_"
      },
      "source": [
        "dice_predict = list(map(np.argmax, X_pred1))"
      ],
      "execution_count": 216,
      "outputs": []
    },
    {
      "cell_type": "code",
      "metadata": {
        "colab": {
          "base_uri": "https://localhost:8080/",
          "height": 282
        },
        "id": "SCOak7lD1vvx",
        "outputId": "96dd9b88-18f9-41de-a627-514072be07f2"
      },
      "source": [
        "plt.plot(np.arange(N1), dice_predict)\n",
        "plt.plot(np.arange(N1), [idx1] * N1)"
      ],
      "execution_count": 217,
      "outputs": [
        {
          "output_type": "execute_result",
          "data": {
            "text/plain": [
              "[<matplotlib.lines.Line2D at 0x7f9a26f5c8d0>]"
            ]
          },
          "metadata": {},
          "execution_count": 217
        },
        {
          "output_type": "display_data",
          "data": {
            "image/png": "[encoded data removed]",
            "text/plain": [
              "<Figure size 432x288 with 1 Axes>"
            ]
          },
          "metadata": {
            "needs_background": "light"
          }
        }
      ]
    },
    {
      "cell_type": "code",
      "metadata": {
        "id": "ayHnYX3X2ZtE"
      },
      "source": [
        "def func_for_side(N):\n",
        "  side_mas = []\n",
        "  n = 0\n",
        "  for i in range(N):\n",
        "    n += int(Y_idx1[i] == 0)\n",
        "    side_mas.append(n)\n",
        "  return side_mas"
      ],
      "execution_count": 218,
      "outputs": []
    },
    {
      "cell_type": "code",
      "metadata": {
        "id": "sdy3QQcx2rsJ"
      },
      "source": [
        "side_mas = func_for_side(N1)"
      ],
      "execution_count": 219,
      "outputs": []
    },
    {
      "cell_type": "code",
      "metadata": {
        "colab": {
          "base_uri": "https://localhost:8080/",
          "height": 282
        },
        "id": "G6bC_OZg200s",
        "outputId": "72024ef5-c51d-45b1-b3e6-3143c9507d0b"
      },
      "source": [
        "plt.plot(np.arange(N1), side_mas / np.arange(1, N1 + 1))\n",
        "plt.plot(np.arange(N1), [Q1[idx1 - 1][0]]*N1)"
      ],
      "execution_count": 221,
      "outputs": [
        {
          "output_type": "execute_result",
          "data": {
            "text/plain": [
              "[<matplotlib.lines.Line2D at 0x7f9a26e5f6d0>]"
            ]
          },
          "metadata": {},
          "execution_count": 221
        },
        {
          "output_type": "display_data",
          "data": {
            "image/png": "[encoded data removed]",
            "text/plain": [
              "<Figure size 432x288 with 1 Axes>"
            ]
          },
          "metadata": {
            "needs_background": "light"
          }
        }
      ]
    },
    {
      "cell_type": "markdown",
      "metadata": {
        "id": "fLA0utNh3otr"
      },
      "source": [
        "Задача 6.7. Рассмотрим систему наблюдения (6.4), (6.19) со следующими параметрами:\n",
        "\n",
        "𝑃(𝑡)= [0,90,050,050,10,80,10,20,20,6],𝐴(𝑡)= [123], 𝐵𝑛(𝑡)=1.\n",
        "\n",
        "Начальное распределение МЦ – стационарное. На отрезке времени [0, 1000], построить абсолютно оптимальную и линейную оптимальную оценки фильтрации.\n",
        "\n",
        "1) На каждом из трех графиков вывести индикатор состояния МЦ, «тривиальную оценку» этого индикатора, оптимальную линейную и абсолютно оптимальную оценки индика-тора.\n",
        "\n",
        "2) Путем осреднения по пучку траекторий объемом 100 000 вычислить выборочные дис-персии ошибок нелинейных оценок индикаторов каждого состояния МЦ. На каждом из трех графиков для каждой компоненты вывести СКО индикатора компоненты, СКО ошибки оптимальной линейной оценки и СКО ошибки абсолютно оптимальной оценки."
      ]
    },
    {
      "cell_type": "code",
      "metadata": {
        "id": "U6bcvRHF3pTI"
      },
      "source": [
        "n = 3\n",
        "T = 1000\n",
        "A, B = [np.array([1, 2, 3])[:, None], np.array([1] * n)[:, None]]\n",
        "\n",
        "P = np.array([[0.9, 0.05, 0.05], [0.1, 0.8, 0.1], [0.2, 0.2, 0.6]])\n",
        "p = np.array([4/7, 2/7, 1/7])[:, None] # т к МЦ стационарное p^P = p"
      ],
      "execution_count": 235,
      "outputs": []
    },
    {
      "cell_type": "code",
      "metadata": {
        "id": "Zu-NWVBk5JSa"
      },
      "source": [
        "from functools import partial"
      ],
      "execution_count": 238,
      "outputs": []
    },
    {
      "cell_type": "code",
      "metadata": {
        "id": "DVaAb3Ur5PHq"
      },
      "source": [
        "def create_X_Y_8(A, B, n, T):\n",
        "  idx_0 = rng.choice(np.arange(n), size=1, p=p.squeeze())\n",
        "  X_0 = np.zeros(n)\n",
        "  X_0[idx_0] = 1\n",
        "  Y_0 = A.T @ X_0 + np.sum(X_0 * B * partial(np.random.normal, loc=0.0, scale=1.0)(size=1).item())\n",
        "  X, Y = [], []\n",
        "  X.append(X_0)\n",
        "  Y.append(Y_0)\n",
        "  idx_last = idx_0\n",
        "  for i in range(1, T + 1):\n",
        "    idx = rng.choice(np.arange(n), size=1, p=P[idx_last].squeeze())\n",
        "    X_t = np.zeros(n)\n",
        "    X_t[idx] = 1\n",
        "    Y_t = A.T @ X_t + np.sum(X_t * B * partial(np.random.normal, loc=0.0, scale=1.0)(size=1).item())\n",
        "\n",
        "    X.append(X_t)\n",
        "    Y.append(Y_t)\n",
        "    idx_last = idx\n",
        "  return X, Y"
      ],
      "execution_count": 258,
      "outputs": []
    },
    {
      "cell_type": "code",
      "metadata": {
        "id": "sXW7JyQN68Ow"
      },
      "source": [
        "my_X, my_Y = create_X_Y_8(A, B, n, T)"
      ],
      "execution_count": 259,
      "outputs": []
    },
    {
      "cell_type": "code",
      "metadata": {
        "id": "ytyYehZc8bAH"
      },
      "source": [
        "import scipy.stats as sps"
      ],
      "execution_count": 262,
      "outputs": []
    },
    {
      "cell_type": "code",
      "metadata": {
        "id": "paCDVp7N8HY0"
      },
      "source": [
        "def make_pred3(A, B, n, T, Y):\n",
        "  def predict3(i):\n",
        "    return P.T @ X_pred[i]\n",
        "\n",
        "  def correct3(i, mas, A, B, Y):\n",
        "    temp = partial(sps.norm.pdf, loc=0.0, scale=1.0)((1. / B) * (Y[i] - A))    \n",
        "    return ((mas / np.abs(B)) * temp) / np.sum((mas / np.abs(B)) * temp)\n",
        "\n",
        "  X_pred = []\n",
        "  X_cur = correct3(0, p, A, B, Y)\n",
        "  X_pred.append(X_cur)\n",
        "  for i in range(1, T + 1):\n",
        "    X_pr = predict3(i - 1)\n",
        "    X_cur = correct3(i, X_pr, A, B, Y)\n",
        "    X_pred.append(X_cur)\n",
        "  return X_pred"
      ],
      "execution_count": 263,
      "outputs": []
    },
    {
      "cell_type": "code",
      "metadata": {
        "id": "rlOg7ens8VRr"
      },
      "source": [
        "X_pred = make_pred3(A, B, n, T, my_Y)"
      ],
      "execution_count": 265,
      "outputs": []
    },
    {
      "cell_type": "code",
      "metadata": {
        "id": "Zj5rdJQh9tyC"
      },
      "source": [
        "my_X = np.stack(my_X)\n",
        "X_pred = np.stack(X_pred).squeeze()\n",
        "\n",
        "idx_real = my_X.argmax(axis=1)\n",
        "idx_pred = X_pred.argmax(axis=1)"
      ],
      "execution_count": 266,
      "outputs": []
    },
    {
      "cell_type": "code",
      "metadata": {
        "colab": {
          "base_uri": "https://localhost:8080/",
          "height": 282
        },
        "id": "JXMnjh2R-Aep",
        "outputId": "270fde93-fbdb-4448-9128-4727c626fba7"
      },
      "source": [
        "plt.scatter(np.arange(T + 1), idx_real)\n",
        "plt.scatter(np.arange(T + 1), idx_pred)"
      ],
      "execution_count": 267,
      "outputs": [
        {
          "output_type": "execute_result",
          "data": {
            "text/plain": [
              "<matplotlib.collections.PathCollection at 0x7f9a18cae850>"
            ]
          },
          "metadata": {},
          "execution_count": 267
        },
        {
          "output_type": "display_data",
          "data": {
            "image/png": "[encoded data removed]",
            "text/plain": [
              "<Figure size 432x288 with 1 Axes>"
            ]
          },
          "metadata": {
            "needs_background": "light"
          }
        }
      ]
    },
    {
      "cell_type": "code",
      "metadata": {
        "colab": {
          "base_uri": "https://localhost:8080/"
        },
        "id": "ycPhn5Nb-ILm",
        "outputId": "aa24a22d-6562-4a87-a502-b93852e3fa57"
      },
      "source": [
        "sum(idx_real == idx_pred) / (T + 1)"
      ],
      "execution_count": 269,
      "outputs": [
        {
          "output_type": "execute_result",
          "data": {
            "text/plain": [
              "0.44755244755244755"
            ]
          },
          "metadata": {},
          "execution_count": 269
        }
      ]
    },
    {
      "cell_type": "markdown",
      "metadata": {
        "id": "7NN10mTd-cYC"
      },
      "source": [
        "Задача 6.8. Рассмотрим систему наблюдения (6.4), (6.19) со следующими параметрами:\n",
        "\n",
        "𝑃(𝑡)= [0,90,050,050,10,80,10,20,20,6],𝐴(𝑡)= [000],𝐵1(𝑡)=1,𝐵2(𝑡)=2,𝐵3(𝑡)=3."
      ]
    },
    {
      "cell_type": "code",
      "metadata": {
        "id": "iOWPqSut-lpN"
      },
      "source": [
        "n = 3\n",
        "T = 1000\n",
        "A, B = [np.array([0, 0, 0])[:, None], np.array([1, 2, 3])[:, None]]\n",
        "\n",
        "P = np.array([[0.9, 0.05, 0.05], [0.1, 0.8, 0.1], [0.2, 0.2, 0.6]])\n",
        "p = np.array([4/7, 2/7, 1/7])[:, None]"
      ],
      "execution_count": 270,
      "outputs": []
    },
    {
      "cell_type": "code",
      "metadata": {
        "id": "FRIU3Yce-4se"
      },
      "source": [
        "X_last, Y_last = create_X_Y_8(A, B, n, T)"
      ],
      "execution_count": 271,
      "outputs": []
    },
    {
      "cell_type": "code",
      "metadata": {
        "id": "gdxS2TMp_Dho"
      },
      "source": [
        "X_pred = make_pred3(A, B, n, T, Y_last)"
      ],
      "execution_count": 272,
      "outputs": []
    },
    {
      "cell_type": "code",
      "metadata": {
        "id": "AjcK98PA_LR3"
      },
      "source": [
        "X_last = np.stack(X_last)\n",
        "X_pred = np.stack(X_pred).squeeze()\n",
        "\n",
        "idx_real = X_last.argmax(axis=1)\n",
        "idx_pred = X_pred.argmax(axis=1)"
      ],
      "execution_count": 273,
      "outputs": []
    },
    {
      "cell_type": "code",
      "metadata": {
        "colab": {
          "base_uri": "https://localhost:8080/",
          "height": 282
        },
        "id": "I48qL-LU_TD1",
        "outputId": "f1b427ab-e10a-4ba1-bfe1-bad1b6a0b8c3"
      },
      "source": [
        "plt.scatter(np.arange(T + 1), idx_real)\n",
        "plt.scatter(np.arange(T + 1), idx_pred)"
      ],
      "execution_count": 274,
      "outputs": [
        {
          "output_type": "execute_result",
          "data": {
            "text/plain": [
              "<matplotlib.collections.PathCollection at 0x7f9a27149510>"
            ]
          },
          "metadata": {},
          "execution_count": 274
        },
        {
          "output_type": "display_data",
          "data": {
            "image/png": "[encoded data removed]",
            "text/plain": [
              "<Figure size 432x288 with 1 Axes>"
            ]
          },
          "metadata": {
            "needs_background": "light"
          }
        }
      ]
    },
    {
      "cell_type": "code",
      "metadata": {
        "colab": {
          "base_uri": "https://localhost:8080/"
        },
        "id": "43sX8v4S_Vxr",
        "outputId": "3d15acaa-49fc-455e-9c19-553a47289a24"
      },
      "source": [
        "sum(idx_real == idx_pred) / (T + 1)"
      ],
      "execution_count": 275,
      "outputs": [
        {
          "output_type": "execute_result",
          "data": {
            "text/plain": [
              "0.18281718281718282"
            ]
          },
          "metadata": {},
          "execution_count": 275
        }
      ]
    }
  ]
}